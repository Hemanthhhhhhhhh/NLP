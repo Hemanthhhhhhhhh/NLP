{
  "nbformat": 4,
  "nbformat_minor": 0,
  "metadata": {
    "colab": {
      "provenance": [],
      "authorship_tag": "ABX9TyMyI4fzAV8CogenU0ZIdkUt",
      "include_colab_link": true
    },
    "kernelspec": {
      "name": "python3",
      "display_name": "Python 3"
    },
    "language_info": {
      "name": "python"
    }
  },
  "cells": [
    {
      "cell_type": "markdown",
      "metadata": {
        "id": "view-in-github",
        "colab_type": "text"
      },
      "source": [
        "<a href=\"https://colab.research.google.com/github/630vinay/vinay-NLP/blob/main/NLP_LAB5.ipynb\" target=\"_parent\"><img src=\"https://colab.research.google.com/assets/colab-badge.svg\" alt=\"Open In Colab\"/></a>"
      ]
    },
    {
      "cell_type": "code",
      "source": [
        "!pip install hmmlearn\n",
        "import numpy as np\n",
        "from hmmlearn import hmm\n",
        "# States and observations\n",
        "states = [\"Sunny\", \"Rainy\"]\n",
        "n_states = len(states)\n",
        "observations = [\"Dry\", \"Damp\", \"Wet\"]\n",
        "n_observations = len(observations)\n",
        "# Transition probabilities (A)\n",
        "transition_prob = np.array([\n",
        "    [0.7, 0.3],  # Sunny -> Sunny, Sunny -> Rainy\n",
        "    [0.4, 0.6]   # Rainy -> Sunny, Rainy -> Rainy\n",
        "])"
      ],
      "metadata": {
        "colab": {
          "base_uri": "https://localhost:8080/"
        },
        "id": "xVeiK-mMgFP1",
        "outputId": "0aa6c068-fb26-465d-8ec1-c88d5bf6f43b"
      },
      "execution_count": 4,
      "outputs": [
        {
          "output_type": "stream",
          "name": "stdout",
          "text": [
            "Requirement already satisfied: hmmlearn in /usr/local/lib/python3.10/dist-packages (0.3.2)\n",
            "Requirement already satisfied: numpy>=1.10 in /usr/local/lib/python3.10/dist-packages (from hmmlearn) (1.26.4)\n",
            "Requirement already satisfied: scikit-learn!=0.22.0,>=0.16 in /usr/local/lib/python3.10/dist-packages (from hmmlearn) (1.3.2)\n",
            "Requirement already satisfied: scipy>=0.19 in /usr/local/lib/python3.10/dist-packages (from hmmlearn) (1.13.1)\n",
            "Requirement already satisfied: joblib>=1.1.1 in /usr/local/lib/python3.10/dist-packages (from scikit-learn!=0.22.0,>=0.16->hmmlearn) (1.4.2)\n",
            "Requirement already satisfied: threadpoolctl>=2.0.0 in /usr/local/lib/python3.10/dist-packages (from scikit-learn!=0.22.0,>=0.16->hmmlearn) (3.5.0)\n"
          ]
        }
      ]
    },
    {
      "cell_type": "code",
      "source": [
        " # Emission probabilities (B)\n",
        "emission_prob = np.array([\n",
        "    [0.8, 0.15, 0.05],  # Sunny -> Dry, Damp, Wet\n",
        "    [0.1, 0.35, 0.55]   # Rainy -> Dry, Damp, Wet\n",
        "])\n",
        "# Initial probabilities (π)\n",
        "start_prob = np.array([0.6, 0.4])  # Sunny, Rainy\n"
      ],
      "metadata": {
        "id": "KZFCLl3qjdPo"
      },
      "execution_count": 5,
      "outputs": []
    },
    {
      "cell_type": "code",
      "source": [
        "# Create HMM model\n",
        "model = hmm.MultinomialHMM(n_components=n_states)\n",
        "model.startprob_ = start_prob\n",
        "model.transmat_ = transition_prob\n",
        "model.emissionprob_ = emission_prob\n",
        "# Define the sequence of observations: 0 -> Dry, 1 -> Damp, 2 -> Wet\n",
        "# Reshape the sequence for the model (n_samples, 1)\n",
        "observation_sequence = np.array([0, 1, 2, 0, 1]).reshape(-1, 1)  # Example observation sequence\n",
        "\n",
        "\n"
      ],
      "metadata": {
        "colab": {
          "base_uri": "https://localhost:8080/"
        },
        "id": "uQ6qdnXFj9GG",
        "outputId": "19a1fad9-b93a-4134-f86f-2a86f6750585"
      },
      "execution_count": 7,
      "outputs": [
        {
          "output_type": "stream",
          "name": "stderr",
          "text": [
            "WARNING:hmmlearn.hmm:MultinomialHMM has undergone major changes. The previous version was implementing a CategoricalHMM (a special case of MultinomialHMM). This new implementation follows the standard definition for a Multinomial distribution (e.g. as in https://en.wikipedia.org/wiki/Multinomial_distribution). See these issues for details:\n",
            "https://github.com/hmmlearn/hmmlearn/issues/335\n",
            "https://github.com/hmmlearn/hmmlearn/issues/340\n"
          ]
        }
      ]
    },
    {
      "cell_type": "code",
      "source": [
        "# Predict the hidden states based on the observation sequence using the Viterbi algorithm\n",
        "#logprob, hidden_states = model.decode(observation_sequence, algorithm=\"viterbi\")\n",
        "print(\"Observation sequence:\", [observations[i[0]] for i in observation_sequence])\n",
        "#print(\"Predicted hidden states:\", [states[i] for i in hidden_states])\n",
        "\n",
        "# Change the observation sequence and see how the model's predictions change\n",
        "new_observation_sequence = np.array([2, 2, 1, 0]).reshape(-1, 1)  # Example: Wet -> Wet -> Damp -> Dry\n",
        "#logprob_new, hidden_states_new = model.decode(new_observation_sequence, algorithm=\"viterbi\")\n",
        "print(\"New Observation sequence:\", [observations[i[0]] for i in new_observation_sequence])"
      ],
      "metadata": {
        "colab": {
          "base_uri": "https://localhost:8080/"
        },
        "id": "6IF2qeugkJqp",
        "outputId": "62e8a9c2-2767-477e-a49a-e7d9e9f6cedf"
      },
      "execution_count": 8,
      "outputs": [
        {
          "output_type": "stream",
          "name": "stdout",
          "text": [
            "Observation sequence: ['Dry', 'Damp', 'Wet', 'Dry', 'Damp']\n",
            "New Observation sequence: ['Wet', 'Wet', 'Damp', 'Dry']\n"
          ]
        }
      ]
    }
  ]
}